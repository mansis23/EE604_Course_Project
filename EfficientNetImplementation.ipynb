{
  "nbformat": 4,
  "nbformat_minor": 0,
  "metadata": {
    "colab": {
      "provenance": []
    },
    "kernelspec": {
      "name": "python3",
      "display_name": "Python 3"
    },
    "language_info": {
      "name": "python"
    }
  },
  "cells": [
    {
      "cell_type": "code",
      "source": [
        "pip install torch torchvision efficientnet_pytorch\n"
      ],
      "metadata": {
        "colab": {
          "base_uri": "https://localhost:8080/"
        },
        "id": "cVwXkKPWCxV6",
        "outputId": "fc36984f-64c2-4853-f9ec-a8d4290da358"
      },
      "execution_count": null,
      "outputs": [
        {
          "output_type": "stream",
          "name": "stdout",
          "text": [
            "Requirement already satisfied: torch in /usr/local/lib/python3.10/dist-packages (2.5.0+cu121)\n",
            "Requirement already satisfied: torchvision in /usr/local/lib/python3.10/dist-packages (0.20.0+cu121)\n",
            "Collecting efficientnet_pytorch\n",
            "  Downloading efficientnet_pytorch-0.7.1.tar.gz (21 kB)\n",
            "  Preparing metadata (setup.py) ... \u001b[?25l\u001b[?25hdone\n",
            "Requirement already satisfied: filelock in /usr/local/lib/python3.10/dist-packages (from torch) (3.16.1)\n",
            "Requirement already satisfied: typing-extensions>=4.8.0 in /usr/local/lib/python3.10/dist-packages (from torch) (4.12.2)\n",
            "Requirement already satisfied: networkx in /usr/local/lib/python3.10/dist-packages (from torch) (3.4.2)\n",
            "Requirement already satisfied: jinja2 in /usr/local/lib/python3.10/dist-packages (from torch) (3.1.4)\n",
            "Requirement already satisfied: fsspec in /usr/local/lib/python3.10/dist-packages (from torch) (2024.10.0)\n",
            "Requirement already satisfied: sympy==1.13.1 in /usr/local/lib/python3.10/dist-packages (from torch) (1.13.1)\n",
            "Requirement already satisfied: mpmath<1.4,>=1.1.0 in /usr/local/lib/python3.10/dist-packages (from sympy==1.13.1->torch) (1.3.0)\n",
            "Requirement already satisfied: numpy in /usr/local/lib/python3.10/dist-packages (from torchvision) (1.26.4)\n",
            "Requirement already satisfied: pillow!=8.3.*,>=5.3.0 in /usr/local/lib/python3.10/dist-packages (from torchvision) (10.4.0)\n",
            "Requirement already satisfied: MarkupSafe>=2.0 in /usr/local/lib/python3.10/dist-packages (from jinja2->torch) (3.0.2)\n",
            "Building wheels for collected packages: efficientnet_pytorch\n",
            "  Building wheel for efficientnet_pytorch (setup.py) ... \u001b[?25l\u001b[?25hdone\n",
            "  Created wheel for efficientnet_pytorch: filename=efficientnet_pytorch-0.7.1-py3-none-any.whl size=16424 sha256=5fbbac8acce5abd243a3d677bcc76c1919f727fdac9864686799499a6069764e\n",
            "  Stored in directory: /root/.cache/pip/wheels/03/3f/e9/911b1bc46869644912bda90a56bcf7b960f20b5187feea3baf\n",
            "Successfully built efficientnet_pytorch\n",
            "Installing collected packages: efficientnet_pytorch\n",
            "Successfully installed efficientnet_pytorch-0.7.1\n"
          ]
        }
      ]
    },
    {
      "cell_type": "code",
      "source": [
        "import tensorflow as tf\n",
        "from tensorflow.keras import layers, models\n",
        "from tensorflow.keras.applications import EfficientNetB4\n",
        "from tensorflow.keras.preprocessing import image\n",
        "import numpy as np\n",
        "from PIL import Image\n",
        "\n",
        "# Define the Attention Block\n",
        "class AttentionBlock(layers.Layer):\n",
        "    def __init__(self, in_channels=1792):\n",
        "        super(AttentionBlock, self).__init__()\n",
        "        self.conv = layers.Conv2D(1, kernel_size=1)\n",
        "        self.sigmoid = layers.Activation('sigmoid')\n",
        "\n",
        "    def call(self, inputs):\n",
        "        attention = self.sigmoid(self.conv(inputs))\n",
        "        return inputs * attention\n",
        "\n",
        "# Define the EfficientNetWithAttention Model\n",
        "class EfficientNetWithAttention(models.Model):\n",
        "    def __init__(self):\n",
        "        super(EfficientNetWithAttention, self).__init__()\n",
        "        self.base_model = EfficientNetB4(weights='imagenet', include_top=False)\n",
        "        self.attention_block = AttentionBlock(in_channels=1792)\n",
        "        self.global_pool = layers.GlobalAveragePooling2D()\n",
        "        self.classifier = layers.Dense(1, activation='sigmoid')\n",
        "\n",
        "    def call(self, inputs):\n",
        "        x = self.base_model(inputs)\n",
        "        x = self.attention_block(x)\n",
        "        x = self.global_pool(x)\n",
        "        x = self.classifier(x)\n",
        "        return x\n",
        "\n",
        "# Define image preprocessing for TensorFlow/Keras\n",
        "def load_image(image_path):\n",
        "    img = Image.open(image_path).convert(\"RGB\")\n",
        "    img = img.resize((224, 224))  # Resize to match EfficientNet input\n",
        "    img_array = np.array(img) / 255.0  # Normalize\n",
        "    img_array = np.expand_dims(img_array, axis=0)  # Add batch dimension\n",
        "    return img_array\n",
        "\n",
        "# Function to predict\n",
        "def predict_image(input_tensor, model, threshold=0.5):\n",
        "    input_tensor = tf.convert_to_tensor(input_tensor, dtype=tf.float32)\n",
        "    output = model(input_tensor)\n",
        "    prob = tf.sigmoid(output).numpy().item()\n",
        "    prediction = \"Fake\" if prob > threshold else \"Real\"\n",
        "    return prediction, prob\n",
        "\n",
        "# Example usage\n",
        "if __name__ == \"__main__\":\n",
        "    # Initialize model\n",
        "    model = EfficientNetWithAttention()\n",
        "\n",
        "    # Load and preprocess image\n",
        "    image_path = \"/content/Screenshot 2024-11-09 at 4.43.42 AM.png\"  # Update with actual path\n",
        "    input_tensor = load_image(image_path)\n",
        "\n",
        "    # Make a prediction\n",
        "    prediction, prob = predict_image(input_tensor, model)\n",
        "    print(f\"The image is classified as: {prediction}\")\n",
        "    print(f\"Confidence score for 'fake': {prob:.4f}\")\n",
        "\n",
        "\n"
      ],
      "metadata": {
        "colab": {
          "base_uri": "https://localhost:8080/"
        },
        "id": "8tl-S7WyIzsB",
        "outputId": "b2962723-f586-454e-fc6a-ce17199d8802"
      },
      "execution_count": null,
      "outputs": [
        {
          "output_type": "stream",
          "name": "stdout",
          "text": [
            "The image is classified as: Fake\n",
            "Confidence score for 'fake': 0.6212\n"
          ]
        }
      ]
    }
  ]
}